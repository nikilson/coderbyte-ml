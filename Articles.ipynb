{
 "cells": [
  {
   "cell_type": "code",
   "execution_count": 7,
   "id": "62efdfb5-0cae-47ac-b5da-814e3678e866",
   "metadata": {
    "scrolled": true
   },
   "outputs": [],
   "source": [
    "import pandas as pd"
   ]
  },
  {
   "cell_type": "code",
   "execution_count": 29,
   "id": "60b694ff-dd6f-4e1c-a3ac-3ad307e3a8ee",
   "metadata": {},
   "outputs": [],
   "source": [
    "df = pd.read_csv('articles.csv', encoding='iso-8859-1')"
   ]
  },
  {
   "cell_type": "code",
   "execution_count": 30,
   "id": "76d39372-6656-4ec4-8680-c608fd9994e2",
   "metadata": {},
   "outputs": [],
   "source": [
    "df = df.drop(columns=['Id', 'Article.Banner.Image'])\n",
    "df = df.dropna()"
   ]
  },
  {
   "cell_type": "code",
   "execution_count": 31,
   "id": "6032549b-c11c-49c8-9515-52655d75f76a",
   "metadata": {},
   "outputs": [
    {
     "data": {
      "text/html": [
       "<div>\n",
       "<style scoped>\n",
       "    .dataframe tbody tr th:only-of-type {\n",
       "        vertical-align: middle;\n",
       "    }\n",
       "\n",
       "    .dataframe tbody tr th {\n",
       "        vertical-align: top;\n",
       "    }\n",
       "\n",
       "    .dataframe thead th {\n",
       "        text-align: right;\n",
       "    }\n",
       "</style>\n",
       "<table border=\"1\" class=\"dataframe\">\n",
       "  <thead>\n",
       "    <tr style=\"text-align: right;\">\n",
       "      <th></th>\n",
       "      <th>Heading</th>\n",
       "      <th>Outlets</th>\n",
       "      <th>Article.Description</th>\n",
       "      <th>Full_Article</th>\n",
       "      <th>Article_Type</th>\n",
       "      <th>Tonality</th>\n",
       "    </tr>\n",
       "  </thead>\n",
       "  <tbody>\n",
       "    <tr>\n",
       "      <th>0</th>\n",
       "      <td>A Puzzling Maneuver, Then Freefall: NTSB Repor...</td>\n",
       "      <td>Essex Caller</td>\n",
       "      <td>&lt;p&gt;The helicopter that crashed in Southeast Al...</td>\n",
       "      <td>&lt;p&gt;The helicopter that crashed in Southeast Al...</td>\n",
       "      <td>Commercial</td>\n",
       "      <td>Negative</td>\n",
       "    </tr>\n",
       "    <tr>\n",
       "      <th>1</th>\n",
       "      <td>Bells Nexus Air Taxi Concept Rings Changes Fo...</td>\n",
       "      <td>Aviation Week Network</td>\n",
       "      <td>&lt;p&gt;A year after teasing the fledgling electric...</td>\n",
       "      <td>&lt;p&gt;A year after teasing the fledgling electric...</td>\n",
       "      <td>Commercial</td>\n",
       "      <td>Positive</td>\n",
       "    </tr>\n",
       "    <tr>\n",
       "      <th>2</th>\n",
       "      <td>Bell Helicopter Show Air Taxi Nexus</td>\n",
       "      <td>TMTPost</td>\n",
       "      <td>&lt;p&gt;Bell released the full-size design of the v...</td>\n",
       "      <td>&lt;p&gt;Bell released the full-size design of the v...</td>\n",
       "      <td>Commercial</td>\n",
       "      <td>Positive</td>\n",
       "    </tr>\n",
       "    <tr>\n",
       "      <th>3</th>\n",
       "      <td>BELL DÉVOILE LA CONCEPTION INTÉGRALE DE SON TA...</td>\n",
       "      <td>Fredzone</td>\n",
       "      <td>&lt;p&gt;Bell est une soci&amp;eacute;t&amp;eacute; am&amp;eacut...</td>\n",
       "      <td>&lt;p&gt;Bell est une soci&amp;eacute;t&amp;eacute; am&amp;eacut...</td>\n",
       "      <td>Commercial</td>\n",
       "      <td>Positive</td>\n",
       "    </tr>\n",
       "    <tr>\n",
       "      <th>4</th>\n",
       "      <td>Les premiers retours dOlivier Ezratty</td>\n",
       "      <td>FrenchWeb</td>\n",
       "      <td>&lt;p&gt;It was still anecdotal to observe the explo...</td>\n",
       "      <td>&lt;p&gt;It was still anecdotal to observe the explo...</td>\n",
       "      <td>Commercial</td>\n",
       "      <td>Positive</td>\n",
       "    </tr>\n",
       "  </tbody>\n",
       "</table>\n",
       "</div>"
      ],
      "text/plain": [
       "                                             Heading                Outlets  \\\n",
       "0  A Puzzling Maneuver, Then Freefall: NTSB Repor...           Essex Caller   \n",
       "1  Bells Nexus Air Taxi Concept Rings Changes Fo...  Aviation Week Network   \n",
       "2                Bell Helicopter Show Air Taxi Nexus                TMTPost   \n",
       "3  BELL DÉVOILE LA CONCEPTION INTÉGRALE DE SON TA...               Fredzone   \n",
       "4             Les premiers retours dOlivier Ezratty              FrenchWeb   \n",
       "\n",
       "                                 Article.Description  \\\n",
       "0  <p>The helicopter that crashed in Southeast Al...   \n",
       "1  <p>A year after teasing the fledgling electric...   \n",
       "2  <p>Bell released the full-size design of the v...   \n",
       "3  <p>Bell est une soci&eacute;t&eacute; am&eacut...   \n",
       "4  <p>It was still anecdotal to observe the explo...   \n",
       "\n",
       "                                        Full_Article Article_Type  Tonality  \n",
       "0  <p>The helicopter that crashed in Southeast Al...   Commercial  Negative  \n",
       "1  <p>A year after teasing the fledgling electric...   Commercial  Positive  \n",
       "2  <p>Bell released the full-size design of the v...   Commercial  Positive  \n",
       "3  <p>Bell est une soci&eacute;t&eacute; am&eacut...   Commercial  Positive  \n",
       "4  <p>It was still anecdotal to observe the explo...   Commercial  Positive  "
      ]
     },
     "execution_count": 31,
     "metadata": {},
     "output_type": "execute_result"
    }
   ],
   "source": [
    "df.head()"
   ]
  },
  {
   "cell_type": "code",
   "execution_count": 47,
   "id": "85e9e441-437a-40d5-ba4e-5a72c2fc715d",
   "metadata": {
    "scrolled": true
   },
   "outputs": [],
   "source": [
    "from sentence_transformers import SentenceTransformer\n",
    "from transformers import BertTokenizer"
   ]
  },
  {
   "cell_type": "code",
   "execution_count": 25,
   "id": "88c3e2f3-b2d4-4498-ad01-39e9ce83947c",
   "metadata": {},
   "outputs": [
    {
     "name": "stderr",
     "output_type": "stream",
     "text": [
      "C:\\Users\\Rinaldo\\AppData\\Roaming\\Python\\Python312\\site-packages\\huggingface_hub\\file_download.py:159: UserWarning: `huggingface_hub` cache-system uses symlinks by default to efficiently store duplicated files but your machine does not support them in C:\\Users\\Rinaldo\\.cache\\huggingface\\hub\\models--sentence-transformers--paraphrase-MiniLM-L6-v2. Caching files will still work but in a degraded version that might require more space on your disk. This warning can be disabled by setting the `HF_HUB_DISABLE_SYMLINKS_WARNING` environment variable. For more details, see https://huggingface.co/docs/huggingface_hub/how-to-cache#limitations.\n",
      "To support symlinks on Windows, you either need to activate Developer Mode or to run Python as an administrator. In order to see activate developer mode, see this article: https://docs.microsoft.com/en-us/windows/apps/get-started/enable-your-device-for-development\n",
      "  warnings.warn(message)\n",
      "C:\\Users\\Rinaldo\\AppData\\Roaming\\Python\\Python312\\site-packages\\transformers\\tokenization_utils_base.py:1601: FutureWarning: `clean_up_tokenization_spaces` was not set. It will be set to `True` by default. This behavior will be depracted in transformers v4.45, and will be then set to `False` by default. For more details check this issue: https://github.com/huggingface/transformers/issues/31884\n",
      "  warnings.warn(\n"
     ]
    }
   ],
   "source": [
    "vectorizer = SentenceTransformer('paraphrase-MiniLM-L6-v2')"
   ]
  },
  {
   "cell_type": "code",
   "execution_count": 40,
   "id": "ba6147ef-5b6c-46f6-8e89-b854b2935e6b",
   "metadata": {},
   "outputs": [],
   "source": [
    "import re\n",
    "def clean_text(text):\n",
    "    text = re.sub(r'<[^>]+>', '', text)\n",
    "    text = re.sub(r'[^a-zA-Z\\s]', '', text)\n",
    "    text = text.lower()\n",
    "    return text\n",
    "\n",
    "def lower_column(text):\n",
    "    return text.lower()"
   ]
  },
  {
   "cell_type": "code",
   "execution_count": 43,
   "id": "dceffd04-67a9-4206-b36e-cdedf4ba7d42",
   "metadata": {},
   "outputs": [],
   "source": [
    "df['Full_Article']= df['Full_Article'].apply(clean_text)\n",
    "df['Article.Description']= df['Article.Description'].apply(clean_text)\n",
    "df['Outlets']= df['Outlets'].apply(clean_text)\n",
    "df['Heading']= df['Heading'].apply(clean_text)\n",
    "df['Article_Type'] = df['Article_Type'].apply(clean_text)\n",
    "df['Tonality'] = df['Tonality'].apply(clean_text)"
   ]
  },
  {
   "cell_type": "code",
   "execution_count": 44,
   "id": "a1227898-3375-46c4-bc41-a297e8e0f955",
   "metadata": {},
   "outputs": [
    {
     "data": {
      "text/html": [
       "<div>\n",
       "<style scoped>\n",
       "    .dataframe tbody tr th:only-of-type {\n",
       "        vertical-align: middle;\n",
       "    }\n",
       "\n",
       "    .dataframe tbody tr th {\n",
       "        vertical-align: top;\n",
       "    }\n",
       "\n",
       "    .dataframe thead th {\n",
       "        text-align: right;\n",
       "    }\n",
       "</style>\n",
       "<table border=\"1\" class=\"dataframe\">\n",
       "  <thead>\n",
       "    <tr style=\"text-align: right;\">\n",
       "      <th></th>\n",
       "      <th>Heading</th>\n",
       "      <th>Outlets</th>\n",
       "      <th>Article.Description</th>\n",
       "      <th>Full_Article</th>\n",
       "      <th>Article_Type</th>\n",
       "      <th>Tonality</th>\n",
       "    </tr>\n",
       "  </thead>\n",
       "  <tbody>\n",
       "    <tr>\n",
       "      <th>0</th>\n",
       "      <td>a puzzling maneuver then freefall ntsb report ...</td>\n",
       "      <td>essex caller</td>\n",
       "      <td>the helicopter that crashed in southeast alask...</td>\n",
       "      <td>the helicopter that crashed in southeast alask...</td>\n",
       "      <td>commercial</td>\n",
       "      <td>negative</td>\n",
       "    </tr>\n",
       "    <tr>\n",
       "      <th>1</th>\n",
       "      <td>bells nexus air taxi concept rings changes for...</td>\n",
       "      <td>aviation week network</td>\n",
       "      <td>a year after teasing the fledgling electric ve...</td>\n",
       "      <td>a year after teasing the fledgling electric ve...</td>\n",
       "      <td>commercial</td>\n",
       "      <td>positive</td>\n",
       "    </tr>\n",
       "    <tr>\n",
       "      <th>2</th>\n",
       "      <td>bell helicopter show air taxi nexus</td>\n",
       "      <td>tmtpost</td>\n",
       "      <td>bell released the fullsize design of the verti...</td>\n",
       "      <td>bell released the fullsize design of the verti...</td>\n",
       "      <td>commercial</td>\n",
       "      <td>positive</td>\n",
       "    </tr>\n",
       "    <tr>\n",
       "      <th>3</th>\n",
       "      <td>bell dvoile la conception intgrale de son taxi...</td>\n",
       "      <td>fredzone</td>\n",
       "      <td>bell est une socieacuteteacute ameacutericaine...</td>\n",
       "      <td>bell est une socieacuteteacute ameacutericaine...</td>\n",
       "      <td>commercial</td>\n",
       "      <td>positive</td>\n",
       "    </tr>\n",
       "    <tr>\n",
       "      <th>4</th>\n",
       "      <td>les premiers retours dolivier ezratty</td>\n",
       "      <td>frenchweb</td>\n",
       "      <td>it was still anecdotal to observe the explosio...</td>\n",
       "      <td>it was still anecdotal to observe the explosio...</td>\n",
       "      <td>commercial</td>\n",
       "      <td>positive</td>\n",
       "    </tr>\n",
       "  </tbody>\n",
       "</table>\n",
       "</div>"
      ],
      "text/plain": [
       "                                             Heading                Outlets  \\\n",
       "0  a puzzling maneuver then freefall ntsb report ...           essex caller   \n",
       "1  bells nexus air taxi concept rings changes for...  aviation week network   \n",
       "2                bell helicopter show air taxi nexus                tmtpost   \n",
       "3  bell dvoile la conception intgrale de son taxi...               fredzone   \n",
       "4              les premiers retours dolivier ezratty              frenchweb   \n",
       "\n",
       "                                 Article.Description  \\\n",
       "0  the helicopter that crashed in southeast alask...   \n",
       "1  a year after teasing the fledgling electric ve...   \n",
       "2  bell released the fullsize design of the verti...   \n",
       "3  bell est une socieacuteteacute ameacutericaine...   \n",
       "4  it was still anecdotal to observe the explosio...   \n",
       "\n",
       "                                        Full_Article Article_Type  Tonality  \n",
       "0  the helicopter that crashed in southeast alask...   commercial  negative  \n",
       "1  a year after teasing the fledgling electric ve...   commercial  positive  \n",
       "2  bell released the fullsize design of the verti...   commercial  positive  \n",
       "3  bell est une socieacuteteacute ameacutericaine...   commercial  positive  \n",
       "4  it was still anecdotal to observe the explosio...   commercial  positive  "
      ]
     },
     "execution_count": 44,
     "metadata": {},
     "output_type": "execute_result"
    }
   ],
   "source": [
    "df.head()"
   ]
  },
  {
   "cell_type": "code",
   "execution_count": 49,
   "id": "19384dd0-7894-4366-ac3c-09897bdd647b",
   "metadata": {
    "scrolled": true
   },
   "outputs": [
    {
     "name": "stderr",
     "output_type": "stream",
     "text": [
      "C:\\Users\\Rinaldo\\AppData\\Roaming\\Python\\Python312\\site-packages\\huggingface_hub\\file_download.py:159: UserWarning: `huggingface_hub` cache-system uses symlinks by default to efficiently store duplicated files but your machine does not support them in C:\\Users\\Rinaldo\\.cache\\huggingface\\hub\\models--bert-base-uncased. Caching files will still work but in a degraded version that might require more space on your disk. This warning can be disabled by setting the `HF_HUB_DISABLE_SYMLINKS_WARNING` environment variable. For more details, see https://huggingface.co/docs/huggingface_hub/how-to-cache#limitations.\n",
      "To support symlinks on Windows, you either need to activate Developer Mode or to run Python as an administrator. In order to see activate developer mode, see this article: https://docs.microsoft.com/en-us/windows/apps/get-started/enable-your-device-for-development\n",
      "  warnings.warn(message)\n",
      "C:\\Users\\Rinaldo\\AppData\\Roaming\\Python\\Python312\\site-packages\\transformers\\tokenization_utils_base.py:1601: FutureWarning: `clean_up_tokenization_spaces` was not set. It will be set to `True` by default. This behavior will be depracted in transformers v4.45, and will be then set to `False` by default. For more details check this issue: https://github.com/huggingface/transformers/issues/31884\n",
      "  warnings.warn(\n"
     ]
    }
   ],
   "source": [
    "tokenizer = BertTokenizer.from_pretrained('bert-base-uncased')\n",
    "# X = vectorizer.encode(df['Full_Article'].tolist())"
   ]
  },
  {
   "cell_type": "code",
   "execution_count": 79,
   "id": "22570f52-ad60-4c0f-874d-56c4fa79428e",
   "metadata": {},
   "outputs": [],
   "source": [
    "X = tokenizer.encode(df['Heading'].tolist(), return_tensors=\"pt\")"
   ]
  },
  {
   "cell_type": "code",
   "execution_count": 80,
   "id": "dd61d8f4-02de-4ff4-aa67-493cde48fc9a",
   "metadata": {},
   "outputs": [],
   "source": [
    "columns = ['Full_Article', 'Article.Description', 'Outlets', 'Heading', 'Tonality']"
   ]
  },
  {
   "cell_type": "code",
   "execution_count": 81,
   "id": "ff3a9bda-8da2-4518-9d87-9108e678e09a",
   "metadata": {},
   "outputs": [],
   "source": [
    "import numpy as np\n",
    "new_df = pd.DataFrame()\n",
    "X = []"
   ]
  },
  {
   "cell_type": "code",
   "execution_count": 82,
   "id": "d1715d36-0431-4bab-bc82-cbd70f826c10",
   "metadata": {},
   "outputs": [],
   "source": [
    "for col in columns:\n",
    "    X.append(tokenizer.encode(df[col].tolist()))"
   ]
  },
  {
   "cell_type": "code",
   "execution_count": 83,
   "id": "4e1b6a57-dd03-49f2-a787-39dbd173afea",
   "metadata": {},
   "outputs": [],
   "source": [
    "X = np.array(X)"
   ]
  },
  {
   "cell_type": "code",
   "execution_count": 84,
   "id": "86855c7b-e0b2-4509-a2a1-18a4e069a483",
   "metadata": {},
   "outputs": [
    {
     "data": {
      "text/plain": [
       "(5, 3875)"
      ]
     },
     "execution_count": 84,
     "metadata": {},
     "output_type": "execute_result"
    }
   ],
   "source": [
    "X.shape"
   ]
  },
  {
   "cell_type": "code",
   "execution_count": 87,
   "id": "95e633dc-16d2-4bdf-9630-850bee2e6754",
   "metadata": {},
   "outputs": [],
   "source": [
    "from sklearn.model_selection import train_test_split\n",
    "from sklearn.neural_network import MLPClassifier\n",
    "from sklearn.metrics import accuracy_score"
   ]
  },
  {
   "cell_type": "code",
   "execution_count": null,
   "id": "1afdec96-fa3f-4248-8c8d-f92d83256d26",
   "metadata": {},
   "outputs": [],
   "source": []
  }
 ],
 "metadata": {
  "kernelspec": {
   "display_name": "Python 3 (ipykernel)",
   "language": "python",
   "name": "python3"
  },
  "language_info": {
   "codemirror_mode": {
    "name": "ipython",
    "version": 3
   },
   "file_extension": ".py",
   "mimetype": "text/x-python",
   "name": "python",
   "nbconvert_exporter": "python",
   "pygments_lexer": "ipython3",
   "version": "3.12.2"
  }
 },
 "nbformat": 4,
 "nbformat_minor": 5
}
